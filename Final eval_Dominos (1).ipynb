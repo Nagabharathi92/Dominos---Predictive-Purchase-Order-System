{
 "cells": [
  {
   "cell_type": "code",
   "execution_count": 1,
   "id": "92c6045c-8ff2-4590-9600-d6f7c39af1ee",
   "metadata": {},
   "outputs": [],
   "source": [
    "import pandas as pd\n",
    "import numpy as np\n",
    "from statsmodels.tsa.arima.model import ARIMA\n",
    "from statsmodels.tsa.statespace.sarimax import SARIMAX\n",
    "from sklearn.preprocessing import LabelEncoder"
   ]
  },
  {
   "cell_type": "code",
   "execution_count": 9,
   "id": "3bb4df5e-fb58-4584-96b1-5e6efe75ae2d",
   "metadata": {},
   "outputs": [],
   "source": [
    "#Importing the Data\n",
    "pizza_df= pd.read_csv(r\"C:\\Users\\hp\\Desktop\\Dominos\\Pizza_Sale - pizza_sales.csv\")\n",
    "Ingredients_dataset = pd.read_csv(r\"C:\\Users\\hp\\Desktop\\Dominos\\Pizza_ingredients - Pizza_ingredients.csv\")"
   ]
  },
  {
   "cell_type": "code",
   "execution_count": 11,
   "id": "d4d839fd-1366-41d2-adfd-905e4811f39f",
   "metadata": {},
   "outputs": [],
   "source": [
    "pizza_df.dropna(inplace=True)\n"
   ]
  },
  {
   "cell_type": "code",
   "execution_count": 13,
   "id": "69a82ebc-d3e1-4545-8927-8b97fd4058a3",
   "metadata": {},
   "outputs": [
    {
     "data": {
      "text/html": [
       "<div>\n",
       "<style scoped>\n",
       "    .dataframe tbody tr th:only-of-type {\n",
       "        vertical-align: middle;\n",
       "    }\n",
       "\n",
       "    .dataframe tbody tr th {\n",
       "        vertical-align: top;\n",
       "    }\n",
       "\n",
       "    .dataframe thead th {\n",
       "        text-align: right;\n",
       "    }\n",
       "</style>\n",
       "<table border=\"1\" class=\"dataframe\">\n",
       "  <thead>\n",
       "    <tr style=\"text-align: right;\">\n",
       "      <th></th>\n",
       "      <th>pizza_id</th>\n",
       "      <th>order_id</th>\n",
       "      <th>pizza_name_id</th>\n",
       "      <th>quantity</th>\n",
       "      <th>order_date</th>\n",
       "      <th>order_time</th>\n",
       "      <th>unit_price</th>\n",
       "      <th>total_price</th>\n",
       "      <th>pizza_size</th>\n",
       "      <th>pizza_category</th>\n",
       "      <th>pizza_ingredients</th>\n",
       "      <th>pizza_name</th>\n",
       "    </tr>\n",
       "  </thead>\n",
       "  <tbody>\n",
       "    <tr>\n",
       "      <th>0</th>\n",
       "      <td>1</td>\n",
       "      <td>1</td>\n",
       "      <td>hawaiian_m</td>\n",
       "      <td>1</td>\n",
       "      <td>1/1/2015</td>\n",
       "      <td>11:38:36</td>\n",
       "      <td>13.25</td>\n",
       "      <td>13.25</td>\n",
       "      <td>M</td>\n",
       "      <td>Classic</td>\n",
       "      <td>Sliced Ham, Pineapple, Mozzarella Cheese</td>\n",
       "      <td>The Hawaiian Pizza</td>\n",
       "    </tr>\n",
       "    <tr>\n",
       "      <th>1</th>\n",
       "      <td>2</td>\n",
       "      <td>2</td>\n",
       "      <td>classic_dlx_m</td>\n",
       "      <td>1</td>\n",
       "      <td>1/1/2015</td>\n",
       "      <td>11:57:40</td>\n",
       "      <td>16.00</td>\n",
       "      <td>16.00</td>\n",
       "      <td>M</td>\n",
       "      <td>Classic</td>\n",
       "      <td>Pepperoni, Mushrooms, Red Onions, Red Peppers,...</td>\n",
       "      <td>The Classic Deluxe Pizza</td>\n",
       "    </tr>\n",
       "    <tr>\n",
       "      <th>2</th>\n",
       "      <td>3</td>\n",
       "      <td>2</td>\n",
       "      <td>five_cheese_l</td>\n",
       "      <td>1</td>\n",
       "      <td>1/1/2015</td>\n",
       "      <td>11:57:40</td>\n",
       "      <td>18.50</td>\n",
       "      <td>18.50</td>\n",
       "      <td>L</td>\n",
       "      <td>Veggie</td>\n",
       "      <td>Mozzarella Cheese, Provolone Cheese, Smoked Go...</td>\n",
       "      <td>The Five Cheese Pizza</td>\n",
       "    </tr>\n",
       "    <tr>\n",
       "      <th>3</th>\n",
       "      <td>4</td>\n",
       "      <td>2</td>\n",
       "      <td>ital_supr_l</td>\n",
       "      <td>1</td>\n",
       "      <td>1/1/2015</td>\n",
       "      <td>11:57:40</td>\n",
       "      <td>20.75</td>\n",
       "      <td>20.75</td>\n",
       "      <td>L</td>\n",
       "      <td>Supreme</td>\n",
       "      <td>Calabrese Salami, Capocollo, Tomatoes, Red Oni...</td>\n",
       "      <td>The Italian Supreme Pizza</td>\n",
       "    </tr>\n",
       "    <tr>\n",
       "      <th>4</th>\n",
       "      <td>5</td>\n",
       "      <td>2</td>\n",
       "      <td>mexicana_m</td>\n",
       "      <td>1</td>\n",
       "      <td>1/1/2015</td>\n",
       "      <td>11:57:40</td>\n",
       "      <td>16.00</td>\n",
       "      <td>16.00</td>\n",
       "      <td>M</td>\n",
       "      <td>Veggie</td>\n",
       "      <td>Tomatoes, Red Peppers, Jalapeno Peppers, Red O...</td>\n",
       "      <td>The Mexicana Pizza</td>\n",
       "    </tr>\n",
       "  </tbody>\n",
       "</table>\n",
       "</div>"
      ],
      "text/plain": [
       "   pizza_id  order_id  pizza_name_id  quantity order_date order_time  \\\n",
       "0         1         1     hawaiian_m         1   1/1/2015   11:38:36   \n",
       "1         2         2  classic_dlx_m         1   1/1/2015   11:57:40   \n",
       "2         3         2  five_cheese_l         1   1/1/2015   11:57:40   \n",
       "3         4         2    ital_supr_l         1   1/1/2015   11:57:40   \n",
       "4         5         2     mexicana_m         1   1/1/2015   11:57:40   \n",
       "\n",
       "   unit_price  total_price pizza_size pizza_category  \\\n",
       "0       13.25        13.25          M        Classic   \n",
       "1       16.00        16.00          M        Classic   \n",
       "2       18.50        18.50          L         Veggie   \n",
       "3       20.75        20.75          L        Supreme   \n",
       "4       16.00        16.00          M         Veggie   \n",
       "\n",
       "                                   pizza_ingredients  \\\n",
       "0           Sliced Ham, Pineapple, Mozzarella Cheese   \n",
       "1  Pepperoni, Mushrooms, Red Onions, Red Peppers,...   \n",
       "2  Mozzarella Cheese, Provolone Cheese, Smoked Go...   \n",
       "3  Calabrese Salami, Capocollo, Tomatoes, Red Oni...   \n",
       "4  Tomatoes, Red Peppers, Jalapeno Peppers, Red O...   \n",
       "\n",
       "                  pizza_name  \n",
       "0         The Hawaiian Pizza  \n",
       "1   The Classic Deluxe Pizza  \n",
       "2      The Five Cheese Pizza  \n",
       "3  The Italian Supreme Pizza  \n",
       "4         The Mexicana Pizza  "
      ]
     },
     "execution_count": 13,
     "metadata": {},
     "output_type": "execute_result"
    }
   ],
   "source": [
    "pizza_df.head()\n"
   ]
  },
  {
   "cell_type": "code",
   "execution_count": 15,
   "id": "2fbd561b-899e-4bd0-a233-cbdc10376ff5",
   "metadata": {},
   "outputs": [
    {
     "name": "stdout",
     "output_type": "stream",
     "text": [
      "<class 'pandas.core.frame.DataFrame'>\n",
      "Index: 48554 entries, 0 to 48619\n",
      "Data columns (total 12 columns):\n",
      " #   Column             Non-Null Count  Dtype  \n",
      "---  ------             --------------  -----  \n",
      " 0   pizza_id           48554 non-null  int64  \n",
      " 1   order_id           48554 non-null  int64  \n",
      " 2   pizza_name_id      48554 non-null  object \n",
      " 3   quantity           48554 non-null  int64  \n",
      " 4   order_date         48554 non-null  object \n",
      " 5   order_time         48554 non-null  object \n",
      " 6   unit_price         48554 non-null  float64\n",
      " 7   total_price        48554 non-null  float64\n",
      " 8   pizza_size         48554 non-null  object \n",
      " 9   pizza_category     48554 non-null  object \n",
      " 10  pizza_ingredients  48554 non-null  object \n",
      " 11  pizza_name         48554 non-null  object \n",
      "dtypes: float64(2), int64(3), object(7)\n",
      "memory usage: 4.8+ MB\n"
     ]
    }
   ],
   "source": [
    "pizza_df.info()\n"
   ]
  },
  {
   "cell_type": "code",
   "execution_count": 17,
   "id": "41f2ec26-51d2-4e82-8bf1-882577033885",
   "metadata": {},
   "outputs": [
    {
     "data": {
      "text/plain": [
       "pizza_id             0\n",
       "order_id             0\n",
       "pizza_name_id        0\n",
       "quantity             0\n",
       "order_date           0\n",
       "order_time           0\n",
       "unit_price           0\n",
       "total_price          0\n",
       "pizza_size           0\n",
       "pizza_category       0\n",
       "pizza_ingredients    0\n",
       "pizza_name           0\n",
       "dtype: int64"
      ]
     },
     "execution_count": 17,
     "metadata": {},
     "output_type": "execute_result"
    }
   ],
   "source": [
    "pizza_df.isna().sum()\n"
   ]
  },
  {
   "cell_type": "code",
   "execution_count": 19,
   "id": "c4ac57de-c605-4fa8-bd08-0dbf448bf299",
   "metadata": {},
   "outputs": [
    {
     "data": {
      "text/plain": [
       "0"
      ]
     },
     "execution_count": 19,
     "metadata": {},
     "output_type": "execute_result"
    }
   ],
   "source": [
    "pizza_df.duplicated().sum()\n"
   ]
  },
  {
   "cell_type": "code",
   "execution_count": 21,
   "id": "9c853561-b642-4941-ac40-eb289f34ab58",
   "metadata": {},
   "outputs": [
    {
     "data": {
      "text/plain": [
       "(48554, 12)"
      ]
     },
     "execution_count": 21,
     "metadata": {},
     "output_type": "execute_result"
    }
   ],
   "source": [
    "pizza_df.shape\n"
   ]
  },
  {
   "cell_type": "code",
   "execution_count": 23,
   "id": "9188d3f5-d2ec-405a-a668-14786ee96067",
   "metadata": {},
   "outputs": [],
   "source": [
    "def parse_dates(date):\n",
    "  for fmt in ('%d-%m-%Y', '%d/%m/%Y'):\n",
    "    try:\n",
    "      return pd.to_datetime(date, format=fmt)\n",
    "    except ValueError:\n",
    "      pass\n",
    "  raise ValueError(f'no valid date format found for {date}')\n",
    "     "
   ]
  },
  {
   "cell_type": "code",
   "execution_count": 25,
   "id": "4d911b54-98e0-4356-94f1-297465cab51b",
   "metadata": {},
   "outputs": [],
   "source": [
    "pizza_df['order_date'] = pizza_df['order_date'].apply(parse_dates)\n"
   ]
  },
  {
   "cell_type": "code",
   "execution_count": 27,
   "id": "ec6e6087-2f43-41bd-a33e-b0518a20df70",
   "metadata": {},
   "outputs": [
    {
     "data": {
      "text/plain": [
       "0   2015-01-01\n",
       "1   2015-01-01\n",
       "2   2015-01-01\n",
       "3   2015-01-01\n",
       "4   2015-01-01\n",
       "Name: order_date, dtype: datetime64[ns]"
      ]
     },
     "execution_count": 27,
     "metadata": {},
     "output_type": "execute_result"
    }
   ],
   "source": [
    "pizza_df['order_date'].head()\n"
   ]
  },
  {
   "cell_type": "code",
   "execution_count": 31,
   "id": "f8fd31b7-d422-493b-868a-6894ab4871cc",
   "metadata": {},
   "outputs": [
    {
     "data": {
      "image/png": "[encoded data removed]",
      "text/plain": [
       "<Figure size 1200x600 with 1 Axes>"
      ]
     },
     "metadata": {},
     "output_type": "display_data"
    }
   ],
   "source": [
    "# Group by order date and sum the quantity\n",
    "import matplotlib.pyplot as plt \n",
    "\n",
    "quantity_over_time = pizza_df.groupby('order_date')['quantity'].sum()\n",
    "\n",
    "# Create the plot\n",
    "plt.figure(figsize=(12, 6))\n",
    "plt.plot(quantity_over_time.index, quantity_over_time.values)\n",
    "plt.xlabel('Order Date')\n",
    "plt.ylabel('Quantity Sold')\n",
    "plt.title('Quantity Sold Over Time')\n",
    "plt.grid(True)\n",
    "plt.show()\n"
   ]
  },
  {
   "cell_type": "code",
   "execution_count": 35,
   "id": "28e719e6-3f20-41f3-bf6b-682854055fa5",
   "metadata": {},
   "outputs": [],
   "source": [
    "#Testing for Stationary :\n",
    "\n",
    "\n",
    "from statsmodels.tsa.stattools import adfuller\n",
    "     "
   ]
  },
  {
   "cell_type": "code",
   "execution_count": 37,
   "id": "e07e7189-15dc-481a-847b-7fe4b1bfbf7c",
   "metadata": {},
   "outputs": [],
   "source": [
    "# H0: it is not stationary\n",
    "# H1: it is stationary\n",
    "\n",
    "def adf_test(sales):\n",
    "  result = adfuller(sales)\n",
    "  print('ADF Statistic: %f' % result[0])\n",
    "  print('p-value: %f' % result[1])\n",
    "  print(f'# Lags used: {result[2]}')\n",
    "  print(f'No of observations used: {result[3]}')\n",
    "  if result[1] <= 0.05:\n",
    "    print('we reject the null hypothesis, The series is stationary')\n",
    "  else:\n",
    "    print('Not enough statistical evidence to reject null hypothesis, The series is not stationary')\n",
    "     "
   ]
  },
  {
   "cell_type": "code",
   "execution_count": 39,
   "id": "430a5b5a-bdb0-4d0f-9d49-e76efce41059",
   "metadata": {},
   "outputs": [
    {
     "name": "stdout",
     "output_type": "stream",
     "text": [
      "ADF Statistic: -5.208670\n",
      "p-value: 0.000008\n",
      "# Lags used: 15\n",
      "No of observations used: 342\n",
      "we reject the null hypothesis, The series is stationary\n"
     ]
    }
   ],
   "source": [
    "adf_test(quantity_over_time)\n"
   ]
  },
  {
   "cell_type": "code",
   "execution_count": 41,
   "id": "025f1e14-d704-4d93-a7e3-89c16b692fdc",
   "metadata": {},
   "outputs": [],
   "source": [
    "from statsmodels.tsa.statespace.sarimax import SARIMAX\n",
    "from statsmodels.tsa.arima.model import ARIMA\n",
    "from sklearn.metrics import mean_absolute_error, mean_squared_error"
   ]
  },
  {
   "cell_type": "code",
   "execution_count": 43,
   "id": "ec19baf8-9560-4fae-a180-49ca6c91e9d7",
   "metadata": {},
   "outputs": [],
   "source": [
    "eval_data = pizza_df.groupby(['order_date', 'pizza_name'])['quantity'].sum().unstack().fillna(0)\n"
   ]
  },
  {
   "cell_type": "code",
   "execution_count": 45,
   "id": "0a2a9738-98e0-43ae-882e-a07672b36f8b",
   "metadata": {},
   "outputs": [
    {
     "data": {
      "text/html": [
       "<div>\n",
       "<style scoped>\n",
       "    .dataframe tbody tr th:only-of-type {\n",
       "        vertical-align: middle;\n",
       "    }\n",
       "\n",
       "    .dataframe tbody tr th {\n",
       "        vertical-align: top;\n",
       "    }\n",
       "\n",
       "    .dataframe thead th {\n",
       "        text-align: right;\n",
       "    }\n",
       "</style>\n",
       "<table border=\"1\" class=\"dataframe\">\n",
       "  <thead>\n",
       "    <tr style=\"text-align: right;\">\n",
       "      <th>pizza_name</th>\n",
       "      <th>The Barbecue Chicken Pizza</th>\n",
       "      <th>The Big Meat Pizza</th>\n",
       "      <th>The Brie Carre Pizza</th>\n",
       "      <th>The Calabrese Pizza</th>\n",
       "      <th>The California Chicken Pizza</th>\n",
       "      <th>The Chicken Alfredo Pizza</th>\n",
       "      <th>The Chicken Pesto Pizza</th>\n",
       "      <th>The Classic Deluxe Pizza</th>\n",
       "      <th>The Five Cheese Pizza</th>\n",
       "      <th>The Four Cheese Pizza</th>\n",
       "      <th>...</th>\n",
       "      <th>The Prosciutto and Arugula Pizza</th>\n",
       "      <th>The Sicilian Pizza</th>\n",
       "      <th>The Soppressata Pizza</th>\n",
       "      <th>The Southwest Chicken Pizza</th>\n",
       "      <th>The Spicy Italian Pizza</th>\n",
       "      <th>The Spinach Pesto Pizza</th>\n",
       "      <th>The Spinach Supreme Pizza</th>\n",
       "      <th>The Spinach and Feta Pizza</th>\n",
       "      <th>The Thai Chicken Pizza</th>\n",
       "      <th>The Vegetables + Vegetables Pizza</th>\n",
       "    </tr>\n",
       "    <tr>\n",
       "      <th>order_date</th>\n",
       "      <th></th>\n",
       "      <th></th>\n",
       "      <th></th>\n",
       "      <th></th>\n",
       "      <th></th>\n",
       "      <th></th>\n",
       "      <th></th>\n",
       "      <th></th>\n",
       "      <th></th>\n",
       "      <th></th>\n",
       "      <th></th>\n",
       "      <th></th>\n",
       "      <th></th>\n",
       "      <th></th>\n",
       "      <th></th>\n",
       "      <th></th>\n",
       "      <th></th>\n",
       "      <th></th>\n",
       "      <th></th>\n",
       "      <th></th>\n",
       "      <th></th>\n",
       "    </tr>\n",
       "  </thead>\n",
       "  <tbody>\n",
       "    <tr>\n",
       "      <th>2015-01-01</th>\n",
       "      <td>11.0</td>\n",
       "      <td>5.0</td>\n",
       "      <td>0.0</td>\n",
       "      <td>1.0</td>\n",
       "      <td>4.0</td>\n",
       "      <td>2.0</td>\n",
       "      <td>4.0</td>\n",
       "      <td>10.0</td>\n",
       "      <td>6.0</td>\n",
       "      <td>5.0</td>\n",
       "      <td>...</td>\n",
       "      <td>4.0</td>\n",
       "      <td>4.0</td>\n",
       "      <td>0.0</td>\n",
       "      <td>7.0</td>\n",
       "      <td>5.0</td>\n",
       "      <td>2.0</td>\n",
       "      <td>5.0</td>\n",
       "      <td>2.0</td>\n",
       "      <td>7.0</td>\n",
       "      <td>3.0</td>\n",
       "    </tr>\n",
       "    <tr>\n",
       "      <th>2015-01-02</th>\n",
       "      <td>8.0</td>\n",
       "      <td>8.0</td>\n",
       "      <td>0.0</td>\n",
       "      <td>0.0</td>\n",
       "      <td>5.0</td>\n",
       "      <td>1.0</td>\n",
       "      <td>2.0</td>\n",
       "      <td>6.0</td>\n",
       "      <td>6.0</td>\n",
       "      <td>3.0</td>\n",
       "      <td>...</td>\n",
       "      <td>4.0</td>\n",
       "      <td>6.0</td>\n",
       "      <td>4.0</td>\n",
       "      <td>6.0</td>\n",
       "      <td>11.0</td>\n",
       "      <td>2.0</td>\n",
       "      <td>7.0</td>\n",
       "      <td>4.0</td>\n",
       "      <td>9.0</td>\n",
       "      <td>5.0</td>\n",
       "    </tr>\n",
       "    <tr>\n",
       "      <th>2015-01-03</th>\n",
       "      <td>7.0</td>\n",
       "      <td>8.0</td>\n",
       "      <td>0.0</td>\n",
       "      <td>1.0</td>\n",
       "      <td>11.0</td>\n",
       "      <td>5.0</td>\n",
       "      <td>3.0</td>\n",
       "      <td>5.0</td>\n",
       "      <td>4.0</td>\n",
       "      <td>7.0</td>\n",
       "      <td>...</td>\n",
       "      <td>7.0</td>\n",
       "      <td>6.0</td>\n",
       "      <td>1.0</td>\n",
       "      <td>5.0</td>\n",
       "      <td>4.0</td>\n",
       "      <td>3.0</td>\n",
       "      <td>2.0</td>\n",
       "      <td>2.0</td>\n",
       "      <td>9.0</td>\n",
       "      <td>7.0</td>\n",
       "    </tr>\n",
       "    <tr>\n",
       "      <th>2015-01-04</th>\n",
       "      <td>9.0</td>\n",
       "      <td>0.0</td>\n",
       "      <td>2.0</td>\n",
       "      <td>2.0</td>\n",
       "      <td>5.0</td>\n",
       "      <td>4.0</td>\n",
       "      <td>1.0</td>\n",
       "      <td>4.0</td>\n",
       "      <td>2.0</td>\n",
       "      <td>4.0</td>\n",
       "      <td>...</td>\n",
       "      <td>4.0</td>\n",
       "      <td>3.0</td>\n",
       "      <td>0.0</td>\n",
       "      <td>1.0</td>\n",
       "      <td>4.0</td>\n",
       "      <td>3.0</td>\n",
       "      <td>4.0</td>\n",
       "      <td>3.0</td>\n",
       "      <td>5.0</td>\n",
       "      <td>1.0</td>\n",
       "    </tr>\n",
       "    <tr>\n",
       "      <th>2015-01-05</th>\n",
       "      <td>2.0</td>\n",
       "      <td>3.0</td>\n",
       "      <td>2.0</td>\n",
       "      <td>0.0</td>\n",
       "      <td>6.0</td>\n",
       "      <td>8.0</td>\n",
       "      <td>2.0</td>\n",
       "      <td>9.0</td>\n",
       "      <td>5.0</td>\n",
       "      <td>4.0</td>\n",
       "      <td>...</td>\n",
       "      <td>2.0</td>\n",
       "      <td>5.0</td>\n",
       "      <td>2.0</td>\n",
       "      <td>3.0</td>\n",
       "      <td>2.0</td>\n",
       "      <td>4.0</td>\n",
       "      <td>2.0</td>\n",
       "      <td>2.0</td>\n",
       "      <td>6.0</td>\n",
       "      <td>2.0</td>\n",
       "    </tr>\n",
       "  </tbody>\n",
       "</table>\n",
       "<p>5 rows × 32 columns</p>\n",
       "</div>"
      ],
      "text/plain": [
       "pizza_name  The Barbecue Chicken Pizza  The Big Meat Pizza  \\\n",
       "order_date                                                   \n",
       "2015-01-01                        11.0                 5.0   \n",
       "2015-01-02                         8.0                 8.0   \n",
       "2015-01-03                         7.0                 8.0   \n",
       "2015-01-04                         9.0                 0.0   \n",
       "2015-01-05                         2.0                 3.0   \n",
       "\n",
       "pizza_name  The Brie Carre Pizza  The Calabrese Pizza  \\\n",
       "order_date                                              \n",
       "2015-01-01                   0.0                  1.0   \n",
       "2015-01-02                   0.0                  0.0   \n",
       "2015-01-03                   0.0                  1.0   \n",
       "2015-01-04                   2.0                  2.0   \n",
       "2015-01-05                   2.0                  0.0   \n",
       "\n",
       "pizza_name  The California Chicken Pizza  The Chicken Alfredo Pizza  \\\n",
       "order_date                                                            \n",
       "2015-01-01                           4.0                        2.0   \n",
       "2015-01-02                           5.0                        1.0   \n",
       "2015-01-03                          11.0                        5.0   \n",
       "2015-01-04                           5.0                        4.0   \n",
       "2015-01-05                           6.0                        8.0   \n",
       "\n",
       "pizza_name  The Chicken Pesto Pizza  The Classic Deluxe Pizza  \\\n",
       "order_date                                                      \n",
       "2015-01-01                      4.0                      10.0   \n",
       "2015-01-02                      2.0                       6.0   \n",
       "2015-01-03                      3.0                       5.0   \n",
       "2015-01-04                      1.0                       4.0   \n",
       "2015-01-05                      2.0                       9.0   \n",
       "\n",
       "pizza_name  The Five Cheese Pizza  The Four Cheese Pizza  ...  \\\n",
       "order_date                                                ...   \n",
       "2015-01-01                    6.0                    5.0  ...   \n",
       "2015-01-02                    6.0                    3.0  ...   \n",
       "2015-01-03                    4.0                    7.0  ...   \n",
       "2015-01-04                    2.0                    4.0  ...   \n",
       "2015-01-05                    5.0                    4.0  ...   \n",
       "\n",
       "pizza_name  The Prosciutto and Arugula Pizza  The Sicilian Pizza  \\\n",
       "order_date                                                         \n",
       "2015-01-01                               4.0                 4.0   \n",
       "2015-01-02                               4.0                 6.0   \n",
       "2015-01-03                               7.0                 6.0   \n",
       "2015-01-04                               4.0                 3.0   \n",
       "2015-01-05                               2.0                 5.0   \n",
       "\n",
       "pizza_name  The Soppressata Pizza  The Southwest Chicken Pizza  \\\n",
       "order_date                                                       \n",
       "2015-01-01                    0.0                          7.0   \n",
       "2015-01-02                    4.0                          6.0   \n",
       "2015-01-03                    1.0                          5.0   \n",
       "2015-01-04                    0.0                          1.0   \n",
       "2015-01-05                    2.0                          3.0   \n",
       "\n",
       "pizza_name  The Spicy Italian Pizza  The Spinach Pesto Pizza  \\\n",
       "order_date                                                     \n",
       "2015-01-01                      5.0                      2.0   \n",
       "2015-01-02                     11.0                      2.0   \n",
       "2015-01-03                      4.0                      3.0   \n",
       "2015-01-04                      4.0                      3.0   \n",
       "2015-01-05                      2.0                      4.0   \n",
       "\n",
       "pizza_name  The Spinach Supreme Pizza  The Spinach and Feta Pizza  \\\n",
       "order_date                                                          \n",
       "2015-01-01                        5.0                         2.0   \n",
       "2015-01-02                        7.0                         4.0   \n",
       "2015-01-03                        2.0                         2.0   \n",
       "2015-01-04                        4.0                         3.0   \n",
       "2015-01-05                        2.0                         2.0   \n",
       "\n",
       "pizza_name  The Thai Chicken Pizza  The Vegetables + Vegetables Pizza  \n",
       "order_date                                                             \n",
       "2015-01-01                     7.0                                3.0  \n",
       "2015-01-02                     9.0                                5.0  \n",
       "2015-01-03                     9.0                                7.0  \n",
       "2015-01-04                     5.0                                1.0  \n",
       "2015-01-05                     6.0                                2.0  \n",
       "\n",
       "[5 rows x 32 columns]"
      ]
     },
     "execution_count": 45,
     "metadata": {},
     "output_type": "execute_result"
    }
   ],
   "source": [
    "eval_data.head()\n"
   ]
  },
  {
   "cell_type": "code",
   "execution_count": 47,
   "id": "763653f5-f35f-40c0-ae67-df81087bb7b5",
   "metadata": {},
   "outputs": [],
   "source": [
    "one_pizza = eval_data['The Barbecue Chicken Pizza']\n"
   ]
  },
  {
   "cell_type": "code",
   "execution_count": 49,
   "id": "bee363b0-5b63-4744-a962-7685960f7da5",
   "metadata": {},
   "outputs": [],
   "source": [
    "# split train and test\n",
    "train = one_pizza[:-7]\n",
    "test = one_pizza[-7:]"
   ]
  },
  {
   "cell_type": "code",
   "execution_count": null,
   "id": "78c899cd-47bc-4d75-9ac0-b9192e457293",
   "metadata": {},
   "outputs": [],
   "source": [
    "# Fit Arima model\n",
    "ari_model = ARIMA(train, order=(1, 1, 0))\n",
    "ari_result = ari_model.fit()\n",
    "     "
   ]
  },
  {
   "cell_type": "code",
   "execution_count": null,
   "id": "d51c8f77-5b35-4c2e-8617-73bcf37ba49f",
   "metadata": {},
   "outputs": [],
   "source": [
    "# forecast\n",
    "ari_forecast = ari_result.get_forecast(steps=len(test))\n",
    "ari_fore_values = ari_forecast.predicted_mean"
   ]
  },
  {
   "cell_type": "code",
   "execution_count": null,
   "id": "c701bfc8-ddb9-47d4-a2d2-4fc09b661f75",
   "metadata": {},
   "outputs": [],
   "source": [
    "ari_predict = ari_result.predict(start=len(train), end=len(train)+len(test)-1, dynamic=True)\n"
   ]
  },
  {
   "cell_type": "code",
   "execution_count": 57,
   "id": "f6ceba29-fe1f-485e-98f6-c49267b87c7a",
   "metadata": {},
   "outputs": [],
   "source": [
    "ari_predict.index = test.index\n"
   ]
  },
  {
   "cell_type": "code",
   "execution_count": 59,
   "id": "6864ab97-0bac-43d8-a80e-86b273707a1d",
   "metadata": {},
   "outputs": [
    {
     "data": {
      "text/html": [
       "<div>\n",
       "<style scoped>\n",
       "    .dataframe tbody tr th:only-of-type {\n",
       "        vertical-align: middle;\n",
       "    }\n",
       "\n",
       "    .dataframe tbody tr th {\n",
       "        vertical-align: top;\n",
       "    }\n",
       "\n",
       "    .dataframe thead th {\n",
       "        text-align: right;\n",
       "    }\n",
       "</style>\n",
       "<table border=\"1\" class=\"dataframe\">\n",
       "  <thead>\n",
       "    <tr style=\"text-align: right;\">\n",
       "      <th></th>\n",
       "      <th>Actual</th>\n",
       "      <th>Predicted</th>\n",
       "    </tr>\n",
       "    <tr>\n",
       "      <th>order_date</th>\n",
       "      <th></th>\n",
       "      <th></th>\n",
       "    </tr>\n",
       "  </thead>\n",
       "  <tbody>\n",
       "    <tr>\n",
       "      <th>2015-12-24</th>\n",
       "      <td>4.0</td>\n",
       "      <td>4.970012</td>\n",
       "    </tr>\n",
       "    <tr>\n",
       "      <th>2015-12-26</th>\n",
       "      <td>5.0</td>\n",
       "      <td>5.500450</td>\n",
       "    </tr>\n",
       "    <tr>\n",
       "      <th>2015-12-27</th>\n",
       "      <td>4.0</td>\n",
       "      <td>5.227277</td>\n",
       "    </tr>\n",
       "    <tr>\n",
       "      <th>2015-12-28</th>\n",
       "      <td>2.0</td>\n",
       "      <td>5.367959</td>\n",
       "    </tr>\n",
       "    <tr>\n",
       "      <th>2015-12-29</th>\n",
       "      <td>4.0</td>\n",
       "      <td>5.295509</td>\n",
       "    </tr>\n",
       "    <tr>\n",
       "      <th>2015-12-30</th>\n",
       "      <td>6.0</td>\n",
       "      <td>5.332820</td>\n",
       "    </tr>\n",
       "    <tr>\n",
       "      <th>2015-12-31</th>\n",
       "      <td>10.0</td>\n",
       "      <td>5.313605</td>\n",
       "    </tr>\n",
       "  </tbody>\n",
       "</table>\n",
       "</div>"
      ],
      "text/plain": [
       "            Actual  Predicted\n",
       "order_date                   \n",
       "2015-12-24     4.0   4.970012\n",
       "2015-12-26     5.0   5.500450\n",
       "2015-12-27     4.0   5.227277\n",
       "2015-12-28     2.0   5.367959\n",
       "2015-12-29     4.0   5.295509\n",
       "2015-12-30     6.0   5.332820\n",
       "2015-12-31    10.0   5.313605"
      ]
     },
     "execution_count": 59,
     "metadata": {},
     "output_type": "execute_result"
    }
   ],
   "source": [
    "# concat test and ari_predict without changing the index of test, test is a pandas series\n",
    "\n",
    "concatenated_series = pd.concat([test, ari_predict], axis=1)\n",
    "concatenated_series.columns = ['Actual', 'Predicted']\n",
    "concatenated_series"
   ]
  },
  {
   "cell_type": "code",
   "execution_count": 61,
   "id": "84102f69-e648-49ab-adb1-b6241c3ff327",
   "metadata": {},
   "outputs": [
    {
     "data": {
      "image/png": "[encoded data removed]",
      "text/plain": [
       "<Figure size 1200x600 with 1 Axes>"
      ]
     },
     "metadata": {},
     "output_type": "display_data"
    }
   ],
   "source": [
    "concatenated_series.plot(figsize=(12, 6))\n",
    "plt.xlabel('Order Date')\n",
    "plt.ylabel('Quantity Sold')\n",
    "plt.title('Actual vs. Predicted Quantity Sold for \"The Barbecue Chicken Pizza\"')\n",
    "plt.show()"
   ]
  },
  {
   "cell_type": "code",
   "execution_count": 63,
   "id": "a3ad45b5-c0dc-4238-8937-d73cb0fefb24",
   "metadata": {},
   "outputs": [
    {
     "name": "stdout",
     "output_type": "stream",
     "text": [
      "ARIMA MAE: 1.8163972887433266\n",
      "ARIMA MSE: 5.446642862970399\n",
      "ARIMA RMSE: 2.333804375471603\n"
     ]
    }
   ],
   "source": [
    "# Evaluate the model\n",
    "mae = mean_absolute_error(test, ari_fore_values)\n",
    "mse = mean_squared_error(test, ari_fore_values)\n",
    "rmse = np.sqrt(mse)\n",
    "\n",
    "print(f'ARIMA MAE: {mae}')\n",
    "print(f'ARIMA MSE: {mse}')\n",
    "print(f'ARIMA RMSE: {rmse}')"
   ]
  },
  {
   "cell_type": "code",
   "execution_count": null,
   "id": "8dddbdb8-e4a3-45f4-8396-e1a2f73a5d44",
   "metadata": {},
   "outputs": [],
   "source": [
    "# fit SARIMA model\n",
    "sari_model = SARIMAX(train, order=(1, 1, 1), seasonal_order=(1, 1, 1, 7))\n",
    "sari_result = sari_model.fit()\n",
    "     "
   ]
  },
  {
   "cell_type": "code",
   "execution_count": null,
   "id": "0fc458bc-c72a-42fd-801a-24b9845f6bb8",
   "metadata": {},
   "outputs": [],
   "source": [
    "# sarima forecast\n",
    "sari_forecast = sari_result.get_forecast(steps=len(test))\n",
    "sari_fore_values = sari_forecast.predicted_mean\n",
    "     "
   ]
  },
  {
   "cell_type": "code",
   "execution_count": 69,
   "id": "f49d1df8-d608-4677-9e61-bf509ae5e5c4",
   "metadata": {},
   "outputs": [
    {
     "name": "stdout",
     "output_type": "stream",
     "text": [
      "SARIMAX MAE: 2.5756324787208564\n",
      "SARIMAX MSE: 8.296056595010654\n",
      "SARIMAX RMSE: 2.8802875889415374\n"
     ]
    }
   ],
   "source": [
    "# Evaluate Sarima\n",
    "mae = mean_absolute_error(test, sari_fore_values)\n",
    "mse = mean_squared_error(test, sari_fore_values)\n",
    "rmse = np.sqrt(mse)\n",
    "\n",
    "print(f'SARIMAX MAE: {mae}')\n",
    "print(f'SARIMAX MSE: {mse}')\n",
    "print(f'SARIMAX RMSE: {rmse}')\n",
    "     "
   ]
  },
  {
   "cell_type": "code",
   "execution_count": 71,
   "id": "fcf1ce48-5fe5-4997-9d62-63a1cdc3a4f3",
   "metadata": {},
   "outputs": [
    {
     "name": "stderr",
     "output_type": "stream",
     "text": [
      "C:\\Users\\hp\\anaconda3\\Lib\\site-packages\\statsmodels\\tsa\\base\\tsa_model.py:836: ValueWarning: No supported index is available. Prediction results will be given with an integer index beginning at `start`.\n",
      "  return get_prediction_index(\n",
      "C:\\Users\\hp\\anaconda3\\Lib\\site-packages\\statsmodels\\tsa\\base\\tsa_model.py:836: FutureWarning: No supported index is available. In the next version, calling this method in a model without a supported index will result in an exception.\n",
      "  return get_prediction_index(\n"
     ]
    }
   ],
   "source": [
    "sari_predict = sari_result.predict(start=len(train), end=len(train)+len(test)-1, dynamic=True)\n"
   ]
  },
  {
   "cell_type": "code",
   "execution_count": 73,
   "id": "f358024c-d86f-45f2-a326-fb046002dbbd",
   "metadata": {},
   "outputs": [],
   "source": [
    "sari_predict.index = test.index\n"
   ]
  },
  {
   "cell_type": "code",
   "execution_count": 75,
   "id": "e441a58a-4eb0-4b6d-94f5-68b1d56d6bcb",
   "metadata": {},
   "outputs": [
    {
     "data": {
      "text/plain": [
       "order_date\n",
       "2015-12-24    7.277264\n",
       "2015-12-26    7.484854\n",
       "2015-12-27    5.527071\n",
       "2015-12-28    6.338010\n",
       "2015-12-29    6.738482\n",
       "2015-12-30    5.870531\n",
       "2015-12-31    6.465724\n",
       "Name: predicted_mean, dtype: float64"
      ]
     },
     "execution_count": 75,
     "metadata": {},
     "output_type": "execute_result"
    }
   ],
   "source": [
    "\n",
    "sari_predict\n"
   ]
  },
  {
   "cell_type": "code",
   "execution_count": 77,
   "id": "54260723-4769-4b6d-ae40-4756d17c52f0",
   "metadata": {},
   "outputs": [
    {
     "data": {
      "text/html": [
       "<div>\n",
       "<style scoped>\n",
       "    .dataframe tbody tr th:only-of-type {\n",
       "        vertical-align: middle;\n",
       "    }\n",
       "\n",
       "    .dataframe tbody tr th {\n",
       "        vertical-align: top;\n",
       "    }\n",
       "\n",
       "    .dataframe thead th {\n",
       "        text-align: right;\n",
       "    }\n",
       "</style>\n",
       "<table border=\"1\" class=\"dataframe\">\n",
       "  <thead>\n",
       "    <tr style=\"text-align: right;\">\n",
       "      <th></th>\n",
       "      <th>Actual</th>\n",
       "      <th>Predicted</th>\n",
       "    </tr>\n",
       "    <tr>\n",
       "      <th>order_date</th>\n",
       "      <th></th>\n",
       "      <th></th>\n",
       "    </tr>\n",
       "  </thead>\n",
       "  <tbody>\n",
       "    <tr>\n",
       "      <th>2015-12-24</th>\n",
       "      <td>4.0</td>\n",
       "      <td>7.277264</td>\n",
       "    </tr>\n",
       "    <tr>\n",
       "      <th>2015-12-26</th>\n",
       "      <td>5.0</td>\n",
       "      <td>7.484854</td>\n",
       "    </tr>\n",
       "    <tr>\n",
       "      <th>2015-12-27</th>\n",
       "      <td>4.0</td>\n",
       "      <td>5.527071</td>\n",
       "    </tr>\n",
       "    <tr>\n",
       "      <th>2015-12-28</th>\n",
       "      <td>2.0</td>\n",
       "      <td>6.338010</td>\n",
       "    </tr>\n",
       "    <tr>\n",
       "      <th>2015-12-29</th>\n",
       "      <td>4.0</td>\n",
       "      <td>6.738482</td>\n",
       "    </tr>\n",
       "    <tr>\n",
       "      <th>2015-12-30</th>\n",
       "      <td>6.0</td>\n",
       "      <td>5.870531</td>\n",
       "    </tr>\n",
       "    <tr>\n",
       "      <th>2015-12-31</th>\n",
       "      <td>10.0</td>\n",
       "      <td>6.465724</td>\n",
       "    </tr>\n",
       "  </tbody>\n",
       "</table>\n",
       "</div>"
      ],
      "text/plain": [
       "            Actual  Predicted\n",
       "order_date                   \n",
       "2015-12-24     4.0   7.277264\n",
       "2015-12-26     5.0   7.484854\n",
       "2015-12-27     4.0   5.527071\n",
       "2015-12-28     2.0   6.338010\n",
       "2015-12-29     4.0   6.738482\n",
       "2015-12-30     6.0   5.870531\n",
       "2015-12-31    10.0   6.465724"
      ]
     },
     "execution_count": 77,
     "metadata": {},
     "output_type": "execute_result"
    }
   ],
   "source": [
    "concatenated_sarima = pd.concat([test, sari_predict] , axis=1)\n",
    "concatenated_sarima.columns = ['Actual', 'Predicted']\n",
    "concatenated_sarima\n",
    "     "
   ]
  },
  {
   "cell_type": "code",
   "execution_count": 79,
   "id": "099fdb8b-e463-4260-8f23-6079111ea772",
   "metadata": {},
   "outputs": [
    {
     "data": {
      "image/png": "[encoded data removed]",
      "text/plain": [
       "<Figure size 1200x600 with 1 Axes>"
      ]
     },
     "metadata": {},
     "output_type": "display_data"
    }
   ],
   "source": [
    "concatenated_sarima.plot(figsize=(12, 6))\n",
    "plt.xlabel('Order Date')\n",
    "plt.ylabel('Quantity Sold')\n",
    "plt.title('Actual vs. Predicted Quantity Sold for \"The Barbecue Chicken Pizza\"')\n",
    "plt.show()"
   ]
  },
  {
   "cell_type": "code",
   "execution_count": 81,
   "id": "0da9146d-c6a2-45e7-bc7e-6846c0da32a2",
   "metadata": {},
   "outputs": [],
   "source": [
    "from prophet import Prophet\n"
   ]
  },
  {
   "cell_type": "code",
   "execution_count": 83,
   "id": "9c488a56-2a81-4a14-8430-83ed35fc7e6e",
   "metadata": {},
   "outputs": [
    {
     "data": {
      "text/html": [
       "<div>\n",
       "<style scoped>\n",
       "    .dataframe tbody tr th:only-of-type {\n",
       "        vertical-align: middle;\n",
       "    }\n",
       "\n",
       "    .dataframe tbody tr th {\n",
       "        vertical-align: top;\n",
       "    }\n",
       "\n",
       "    .dataframe thead th {\n",
       "        text-align: right;\n",
       "    }\n",
       "</style>\n",
       "<table border=\"1\" class=\"dataframe\">\n",
       "  <thead>\n",
       "    <tr style=\"text-align: right;\">\n",
       "      <th></th>\n",
       "      <th>ds</th>\n",
       "      <th>y</th>\n",
       "    </tr>\n",
       "  </thead>\n",
       "  <tbody>\n",
       "    <tr>\n",
       "      <th>0</th>\n",
       "      <td>2015-01-01</td>\n",
       "      <td>11.0</td>\n",
       "    </tr>\n",
       "    <tr>\n",
       "      <th>1</th>\n",
       "      <td>2015-01-02</td>\n",
       "      <td>8.0</td>\n",
       "    </tr>\n",
       "    <tr>\n",
       "      <th>2</th>\n",
       "      <td>2015-01-03</td>\n",
       "      <td>7.0</td>\n",
       "    </tr>\n",
       "    <tr>\n",
       "      <th>3</th>\n",
       "      <td>2015-01-04</td>\n",
       "      <td>9.0</td>\n",
       "    </tr>\n",
       "    <tr>\n",
       "      <th>4</th>\n",
       "      <td>2015-01-05</td>\n",
       "      <td>2.0</td>\n",
       "    </tr>\n",
       "  </tbody>\n",
       "</table>\n",
       "</div>"
      ],
      "text/plain": [
       "          ds     y\n",
       "0 2015-01-01  11.0\n",
       "1 2015-01-02   8.0\n",
       "2 2015-01-03   7.0\n",
       "3 2015-01-04   9.0\n",
       "4 2015-01-05   2.0"
      ]
     },
     "execution_count": 83,
     "metadata": {},
     "output_type": "execute_result"
    }
   ],
   "source": [
    "one_pizza_prophet = pd.DataFrame({'ds': one_pizza.index, 'y': one_pizza.values})\n",
    "\n",
    "one_pizza_prophet.head()"
   ]
  },
  {
   "cell_type": "code",
   "execution_count": 85,
   "id": "6916b32e-a348-4dd9-ba9c-651f97c43f29",
   "metadata": {},
   "outputs": [],
   "source": [
    "# one_pizza_prophet.set_index('ds', inplace=True)\n",
    "\n",
    "# split train and test\n",
    "pr_train = one_pizza_prophet[:-7]\n",
    "pr_test = one_pizza_prophet[-7:]"
   ]
  },
  {
   "cell_type": "code",
   "execution_count": 87,
   "id": "c94423e6-a942-453a-966e-11c721437f4d",
   "metadata": {},
   "outputs": [
    {
     "name": "stderr",
     "output_type": "stream",
     "text": [
      "16:44:07 - cmdstanpy - INFO - Chain [1] start processing\n",
      "16:44:07 - cmdstanpy - INFO - Chain [1] done processing\n"
     ]
    },
    {
     "data": {
      "text/plain": [
       "<prophet.forecaster.Prophet at 0x2efbf20f380>"
      ]
     },
     "execution_count": 87,
     "metadata": {},
     "output_type": "execute_result"
    }
   ],
   "source": [
    "# fit model prophet\n",
    "pr_model = Prophet()\n",
    "pr_model.fit(pr_train)"
   ]
  },
  {
   "cell_type": "code",
   "execution_count": 89,
   "id": "243dcf47-38c7-4c9f-a2b7-8efed01c0d2c",
   "metadata": {},
   "outputs": [],
   "source": [
    "# forcast for one week\n",
    "pr_future = pr_model.make_future_dataframe(periods=7, freq='D')\n",
    "pr_forecast = pr_model.predict(pr_future)"
   ]
  },
  {
   "cell_type": "code",
   "execution_count": 91,
   "id": "2625cb93-412f-4953-9e47-d006d91777e7",
   "metadata": {},
   "outputs": [],
   "source": [
    "# extract forecast values\n",
    "pr_forecast_values = pr_forecast['yhat'][-len(pr_test):].values\n",
    "     "
   ]
  },
  {
   "cell_type": "code",
   "execution_count": 93,
   "id": "083912e2-b399-4e1f-8194-410cb2ae176e",
   "metadata": {},
   "outputs": [
    {
     "name": "stdout",
     "output_type": "stream",
     "text": [
      "prophet MAE: 2.7041506900698473\n",
      "prophet MSE: 8.559382223271792\n",
      "prophet RMSE: 2.925642189891271\n"
     ]
    }
   ],
   "source": [
    "# Evaluate the model\n",
    "mae = mean_absolute_error(pr_test['y'], pr_forecast_values)\n",
    "mse = mean_squared_error(pr_test['y'], pr_forecast_values)\n",
    "rmse = np.sqrt(mse)\n",
    "\n",
    "print(f'prophet MAE: {mae}')\n",
    "print(f'prophet MSE: {mse}')\n",
    "print(f'prophet RMSE: {rmse}')\n",
    "     "
   ]
  },
  {
   "cell_type": "code",
   "execution_count": 95,
   "id": "e6af8865-2d10-41fc-b13d-e8801c63b75b",
   "metadata": {},
   "outputs": [
    {
     "data": {
      "text/html": [
       "<div>\n",
       "<style scoped>\n",
       "    .dataframe tbody tr th:only-of-type {\n",
       "        vertical-align: middle;\n",
       "    }\n",
       "\n",
       "    .dataframe tbody tr th {\n",
       "        vertical-align: top;\n",
       "    }\n",
       "\n",
       "    .dataframe thead th {\n",
       "        text-align: right;\n",
       "    }\n",
       "</style>\n",
       "<table border=\"1\" class=\"dataframe\">\n",
       "  <thead>\n",
       "    <tr style=\"text-align: right;\">\n",
       "      <th></th>\n",
       "      <th>Actual</th>\n",
       "      <th>Predicted</th>\n",
       "    </tr>\n",
       "    <tr>\n",
       "      <th>date</th>\n",
       "      <th></th>\n",
       "      <th></th>\n",
       "    </tr>\n",
       "  </thead>\n",
       "  <tbody>\n",
       "    <tr>\n",
       "      <th>2015-12-24</th>\n",
       "      <td>4.0</td>\n",
       "      <td>6.713469</td>\n",
       "    </tr>\n",
       "    <tr>\n",
       "      <th>2015-12-26</th>\n",
       "      <td>5.0</td>\n",
       "      <td>7.613496</td>\n",
       "    </tr>\n",
       "    <tr>\n",
       "      <th>2015-12-27</th>\n",
       "      <td>4.0</td>\n",
       "      <td>6.970675</td>\n",
       "    </tr>\n",
       "    <tr>\n",
       "      <th>2015-12-28</th>\n",
       "      <td>2.0</td>\n",
       "      <td>5.363001</td>\n",
       "    </tr>\n",
       "    <tr>\n",
       "      <th>2015-12-29</th>\n",
       "      <td>4.0</td>\n",
       "      <td>6.916402</td>\n",
       "    </tr>\n",
       "    <tr>\n",
       "      <th>2015-12-30</th>\n",
       "      <td>6.0</td>\n",
       "      <td>5.774931</td>\n",
       "    </tr>\n",
       "    <tr>\n",
       "      <th>2015-12-31</th>\n",
       "      <td>10.0</td>\n",
       "      <td>5.873058</td>\n",
       "    </tr>\n",
       "  </tbody>\n",
       "</table>\n",
       "</div>"
      ],
      "text/plain": [
       "            Actual  Predicted\n",
       "date                         \n",
       "2015-12-24     4.0   6.713469\n",
       "2015-12-26     5.0   7.613496\n",
       "2015-12-27     4.0   6.970675\n",
       "2015-12-28     2.0   5.363001\n",
       "2015-12-29     4.0   6.916402\n",
       "2015-12-30     6.0   5.774931\n",
       "2015-12-31    10.0   5.873058"
      ]
     },
     "execution_count": 95,
     "metadata": {},
     "output_type": "execute_result"
    }
   ],
   "source": [
    "concat_prophet = pd.concat([pr_test, pr_forecast[['yhat']].iloc[-len(pr_test):]], axis=1)\n",
    "concat_prophet.columns = ['date','Actual', 'Predicted']\n",
    "concat_prophet.set_index('date', inplace=True)\n",
    "concat_prophet"
   ]
  },
  {
   "cell_type": "code",
   "execution_count": 97,
   "id": "aa42f58a-53a6-4fe7-92eb-36daaa3bd8c5",
   "metadata": {},
   "outputs": [
    {
     "data": {
      "image/png": "[encoded data removed]",
      "text/plain": [
       "<Figure size 1200x600 with 1 Axes>"
      ]
     },
     "metadata": {},
     "output_type": "display_data"
    }
   ],
   "source": [
    "# visualize forecast\n",
    "concat_prophet.plot(figsize=(12, 6))\n",
    "plt.xlabel('Order Date')\n",
    "plt.ylabel('Quantity Sold')\n",
    "plt.title('Actual vs. Predicted Quantity Sold for \"The Barbecue Chicken Pizza\"')\n",
    "plt.show()"
   ]
  },
  {
   "cell_type": "code",
   "execution_count": 1,
   "id": "6e6155c1-bbe0-4adf-8c2d-61e7c0071204",
   "metadata": {},
   "outputs": [],
   "source": [
    "#Purchasing\n",
    "import pandas as pd\n",
    "import numpy as np\n",
    "from statsmodels.tsa.arima.model import ARIMA\n",
    "from statsmodels.tsa.statespace.sarimax import SARIMAX\n",
    "from sklearn.preprocessing import LabelEncoder\n",
    "     "
   ]
  },
  {
   "cell_type": "code",
   "execution_count": 3,
   "id": "f1d4c95f-e109-49d8-b974-1c0141d18fe3",
   "metadata": {},
   "outputs": [],
   "source": [
    "# ignore warnings\n",
    "import warnings\n",
    "warnings.filterwarnings('ignore')"
   ]
  },
  {
   "cell_type": "code",
   "execution_count": 37,
   "id": "af64e494-8dba-4519-9c92-8e07edbecf6d",
   "metadata": {},
   "outputs": [],
   "source": [
    "pizza_df= pd.read_csv(r\"C:\\Users\\hp\\Desktop\\Dominos\\Pizza_Sale - pizza_sales.csv\")\n",
    "ingred_df= pd.read_csv(r\"C:\\Users\\hp\\Desktop\\Dominos\\Pizza_ingredients - Pizza_ingredients.csv\")"
   ]
  },
  {
   "cell_type": "code",
   "execution_count": 39,
   "id": "34278f92-fd4f-4608-9aed-173f3d7424bd",
   "metadata": {},
   "outputs": [],
   "source": [
    "pizza_df.dropna(inplace=True)"
   ]
  },
  {
   "cell_type": "code",
   "execution_count": 41,
   "id": "159d62ca-348c-4e6a-83bc-2b5085fcbada",
   "metadata": {},
   "outputs": [],
   "source": [
    "def parse_dates(date):\n",
    "  for fmt in ('%d-%m-%Y', '%d/%m/%Y'):\n",
    "    try:\n",
    "      return pd.to_datetime(date, format=fmt)\n",
    "    except ValueError:\n",
    "      pass\n",
    "  raise ValueError(f'no valid date format found for {date}')\n",
    "     "
   ]
  },
  {
   "cell_type": "code",
   "execution_count": 43,
   "id": "4ff5af4a-6b64-47c1-86e6-4593a3dc6c56",
   "metadata": {},
   "outputs": [],
   "source": [
    "pizza_df['order_date'] = pizza_df['order_date'].apply(parse_dates)\n"
   ]
  },
  {
   "cell_type": "code",
   "execution_count": 44,
   "id": "f148ee31-1293-4397-b51f-6f61bd761e73",
   "metadata": {},
   "outputs": [],
   "source": [
    "pizza_df = pizza_df[['order_date', 'pizza_name', 'quantity']]\n"
   ]
  },
  {
   "cell_type": "code",
   "execution_count": 45,
   "id": "1ac19fe7-2ef8-4ca2-a828-c8165dd8de56",
   "metadata": {},
   "outputs": [
    {
     "data": {
      "text/plain": [
       "array(['The Hawaiian Pizza', 'The Classic Deluxe Pizza',\n",
       "       'The Five Cheese Pizza', 'The Italian Supreme Pizza',\n",
       "       'The Mexicana Pizza', 'The Thai Chicken Pizza',\n",
       "       'The Prosciutto and Arugula Pizza', 'The Barbecue Chicken Pizza',\n",
       "       'The Greek Pizza', 'The Spinach Supreme Pizza',\n",
       "       'The Green Garden Pizza', 'The Italian Capocollo Pizza',\n",
       "       'The Spicy Italian Pizza', 'The Spinach Pesto Pizza',\n",
       "       'The Vegetables + Vegetables Pizza', 'The Southwest Chicken Pizza',\n",
       "       'The California Chicken Pizza', 'The Pepperoni Pizza',\n",
       "       'The Chicken Pesto Pizza', 'The Big Meat Pizza',\n",
       "       'The Calabrese Pizza', 'The Four Cheese Pizza',\n",
       "       'The Italian Vegetables Pizza', 'The Mediterranean Pizza',\n",
       "       'The Pepper Salami Pizza', 'The Spinach and Feta Pizza',\n",
       "       'The Napolitana Pizza', 'The Sicilian Pizza',\n",
       "       'The Chicken Alfredo Pizza',\n",
       "       'The Pepperoni, Mushroom, and Peppers Pizza',\n",
       "       'The Soppressata Pizza', 'The Brie Carre Pizza'], dtype=object)"
      ]
     },
     "execution_count": 45,
     "metadata": {},
     "output_type": "execute_result"
    }
   ],
   "source": [
    " pizza_df['pizza_name'].unique()\n"
   ]
  },
  {
   "cell_type": "code",
   "execution_count": 49,
   "id": "02f1f0f8-c66f-4d11-a2e3-94ea4d5fc588",
   "metadata": {},
   "outputs": [],
   "source": [
    "sales_summary = pizza_df.groupby(['order_date', 'pizza_name']).sum().reset_index()\n"
   ]
  },
  {
   "cell_type": "code",
   "execution_count": 51,
   "id": "4baea864-d78a-4894-b60d-35cb7845bc4e",
   "metadata": {},
   "outputs": [
    {
     "data": {
      "text/html": [
       "<div>\n",
       "<style scoped>\n",
       "    .dataframe tbody tr th:only-of-type {\n",
       "        vertical-align: middle;\n",
       "    }\n",
       "\n",
       "    .dataframe tbody tr th {\n",
       "        vertical-align: top;\n",
       "    }\n",
       "\n",
       "    .dataframe thead th {\n",
       "        text-align: right;\n",
       "    }\n",
       "</style>\n",
       "<table border=\"1\" class=\"dataframe\">\n",
       "  <thead>\n",
       "    <tr style=\"text-align: right;\">\n",
       "      <th></th>\n",
       "      <th>order_date</th>\n",
       "      <th>pizza_name</th>\n",
       "      <th>quantity</th>\n",
       "    </tr>\n",
       "  </thead>\n",
       "  <tbody>\n",
       "    <tr>\n",
       "      <th>0</th>\n",
       "      <td>2015-01-01</td>\n",
       "      <td>The Barbecue Chicken Pizza</td>\n",
       "      <td>11</td>\n",
       "    </tr>\n",
       "    <tr>\n",
       "      <th>1</th>\n",
       "      <td>2015-01-01</td>\n",
       "      <td>The Big Meat Pizza</td>\n",
       "      <td>5</td>\n",
       "    </tr>\n",
       "    <tr>\n",
       "      <th>2</th>\n",
       "      <td>2015-01-01</td>\n",
       "      <td>The Calabrese Pizza</td>\n",
       "      <td>1</td>\n",
       "    </tr>\n",
       "    <tr>\n",
       "      <th>3</th>\n",
       "      <td>2015-01-01</td>\n",
       "      <td>The California Chicken Pizza</td>\n",
       "      <td>4</td>\n",
       "    </tr>\n",
       "    <tr>\n",
       "      <th>4</th>\n",
       "      <td>2015-01-01</td>\n",
       "      <td>The Chicken Alfredo Pizza</td>\n",
       "      <td>2</td>\n",
       "    </tr>\n",
       "  </tbody>\n",
       "</table>\n",
       "</div>"
      ],
      "text/plain": [
       "  order_date                    pizza_name  quantity\n",
       "0 2015-01-01    The Barbecue Chicken Pizza        11\n",
       "1 2015-01-01            The Big Meat Pizza         5\n",
       "2 2015-01-01           The Calabrese Pizza         1\n",
       "3 2015-01-01  The California Chicken Pizza         4\n",
       "4 2015-01-01     The Chicken Alfredo Pizza         2"
      ]
     },
     "execution_count": 51,
     "metadata": {},
     "output_type": "execute_result"
    }
   ],
   "source": [
    "sales_summary.head()\n"
   ]
  },
  {
   "cell_type": "code",
   "execution_count": 53,
   "id": "698bb931-cd67-4d92-b23d-04f8640c0bad",
   "metadata": {},
   "outputs": [],
   "source": [
    "# reshape data for time series modeling\n",
    "sales_pivot = sales_summary.pivot(index='order_date', columns='pizza_name', values='quantity').fillna(0)\n",
    "     "
   ]
  },
  {
   "cell_type": "code",
   "execution_count": 55,
   "id": "891743a1-953e-4b2b-bb75-1bed8f579e4f",
   "metadata": {},
   "outputs": [],
   "source": [
    "\n",
    "arima_models = {}\n",
    "\n",
    "for pizza_name in sales_pivot.columns:\n",
    "  try:\n",
    "    model = ARIMA(sales_pivot[pizza_name], order=(1, 1, 0))\n",
    "    model_fit = model.fit()\n",
    "    arima_models[pizza_name] = model_fit\n",
    "  except:\n",
    "    print(f'ARIMA model for {pizza_name} failed to fit')"
   ]
  },
  {
   "cell_type": "code",
   "execution_count": 57,
   "id": "e2a38ebc-dbc8-4ef9-848b-03b83a4904bb",
   "metadata": {},
   "outputs": [],
   "source": [
    "# Generate predictions for one week\n",
    "prediction_days = 7\n",
    "predictions_arima = {}\n",
    "\n",
    "for pizza_name, model in arima_models.items():\n",
    "  predictions_arima[pizza_name] = model.predict(start=len(sales_pivot), end=len(sales_pivot) + prediction_days - 1)\n",
    "     "
   ]
  },
  {
   "cell_type": "code",
   "execution_count": 59,
   "id": "3a422bd7-e8f7-46be-8e47-127c6ff8f7b0",
   "metadata": {},
   "outputs": [],
   "source": [
    "predictions_df = pd.DataFrame(predictions_arima)\n"
   ]
  },
  {
   "cell_type": "code",
   "execution_count": 61,
   "id": "4067e203-81bb-46bf-934a-e54b0a9451ac",
   "metadata": {},
   "outputs": [],
   "source": [
    "predictions_df.index = pd.date_range(start=sales_pivot.index[-1], periods=prediction_days, freq='D')\n"
   ]
  },
  {
   "cell_type": "code",
   "execution_count": 63,
   "id": "d62572d7-5dad-43a1-8d72-937b252ab545",
   "metadata": {},
   "outputs": [],
   "source": [
    "ingredients_df = ingred_df[['pizza_name', 'pizza_ingredients', 'Items_Qty_In_Grams']]\n"
   ]
  },
  {
   "cell_type": "code",
   "execution_count": 65,
   "id": "eeff4485-7405-41c7-a58d-5d291a53a5a7",
   "metadata": {},
   "outputs": [],
   "source": [
    "# change column name to items_qty\n",
    "ingredients_df.rename(columns={'Items_Qty_In_Grams': 'items_qty'}, inplace=True)\n",
    "     "
   ]
  },
  {
   "cell_type": "code",
   "execution_count": 67,
   "id": "c5f781f6-3f7f-450c-a65b-c02994193ec4",
   "metadata": {},
   "outputs": [
    {
     "data": {
      "text/html": [
       "<div>\n",
       "<style scoped>\n",
       "    .dataframe tbody tr th:only-of-type {\n",
       "        vertical-align: middle;\n",
       "    }\n",
       "\n",
       "    .dataframe tbody tr th {\n",
       "        vertical-align: top;\n",
       "    }\n",
       "\n",
       "    .dataframe thead th {\n",
       "        text-align: right;\n",
       "    }\n",
       "</style>\n",
       "<table border=\"1\" class=\"dataframe\">\n",
       "  <thead>\n",
       "    <tr style=\"text-align: right;\">\n",
       "      <th></th>\n",
       "      <th>The Barbecue Chicken Pizza</th>\n",
       "      <th>The Big Meat Pizza</th>\n",
       "      <th>The Brie Carre Pizza</th>\n",
       "      <th>The Calabrese Pizza</th>\n",
       "      <th>The California Chicken Pizza</th>\n",
       "      <th>The Chicken Alfredo Pizza</th>\n",
       "      <th>The Chicken Pesto Pizza</th>\n",
       "      <th>The Classic Deluxe Pizza</th>\n",
       "      <th>The Five Cheese Pizza</th>\n",
       "      <th>The Four Cheese Pizza</th>\n",
       "      <th>...</th>\n",
       "      <th>The Prosciutto and Arugula Pizza</th>\n",
       "      <th>The Sicilian Pizza</th>\n",
       "      <th>The Soppressata Pizza</th>\n",
       "      <th>The Southwest Chicken Pizza</th>\n",
       "      <th>The Spicy Italian Pizza</th>\n",
       "      <th>The Spinach Pesto Pizza</th>\n",
       "      <th>The Spinach Supreme Pizza</th>\n",
       "      <th>The Spinach and Feta Pizza</th>\n",
       "      <th>The Thai Chicken Pizza</th>\n",
       "      <th>The Vegetables + Vegetables Pizza</th>\n",
       "    </tr>\n",
       "  </thead>\n",
       "  <tbody>\n",
       "    <tr>\n",
       "      <th>2015-12-31</th>\n",
       "      <td>7.949231</td>\n",
       "      <td>4.420315</td>\n",
       "      <td>0.868806</td>\n",
       "      <td>1.368239</td>\n",
       "      <td>7.0</td>\n",
       "      <td>2.515974</td>\n",
       "      <td>2.139860</td>\n",
       "      <td>6.884102</td>\n",
       "      <td>3.032327</td>\n",
       "      <td>6.974960</td>\n",
       "      <td>...</td>\n",
       "      <td>3.594000</td>\n",
       "      <td>2.583928</td>\n",
       "      <td>2.060907</td>\n",
       "      <td>5.917019</td>\n",
       "      <td>5.844288</td>\n",
       "      <td>3.542421</td>\n",
       "      <td>2.0</td>\n",
       "      <td>3.173030</td>\n",
       "      <td>3.0</td>\n",
       "      <td>7.773728</td>\n",
       "    </tr>\n",
       "    <tr>\n",
       "      <th>2016-01-01</th>\n",
       "      <td>9.000644</td>\n",
       "      <td>5.252117</td>\n",
       "      <td>1.508606</td>\n",
       "      <td>2.255787</td>\n",
       "      <td>7.0</td>\n",
       "      <td>3.250085</td>\n",
       "      <td>3.004890</td>\n",
       "      <td>8.502239</td>\n",
       "      <td>4.000261</td>\n",
       "      <td>8.000157</td>\n",
       "      <td>...</td>\n",
       "      <td>4.252945</td>\n",
       "      <td>3.751409</td>\n",
       "      <td>2.501855</td>\n",
       "      <td>5.496557</td>\n",
       "      <td>7.266934</td>\n",
       "      <td>4.250600</td>\n",
       "      <td>2.0</td>\n",
       "      <td>4.007485</td>\n",
       "      <td>3.0</td>\n",
       "      <td>8.764985</td>\n",
       "    </tr>\n",
       "    <tr>\n",
       "      <th>2016-01-02</th>\n",
       "      <td>8.461593</td>\n",
       "      <td>4.814122</td>\n",
       "      <td>1.146737</td>\n",
       "      <td>1.773032</td>\n",
       "      <td>7.0</td>\n",
       "      <td>2.886938</td>\n",
       "      <td>2.602621</td>\n",
       "      <td>7.661914</td>\n",
       "      <td>3.524117</td>\n",
       "      <td>7.481141</td>\n",
       "      <td>...</td>\n",
       "      <td>3.944120</td>\n",
       "      <td>3.187265</td>\n",
       "      <td>2.294809</td>\n",
       "      <td>5.689343</td>\n",
       "      <td>6.625582</td>\n",
       "      <td>3.906524</td>\n",
       "      <td>2.0</td>\n",
       "      <td>3.626354</td>\n",
       "      <td>3.0</td>\n",
       "      <td>8.323624</td>\n",
       "    </tr>\n",
       "    <tr>\n",
       "      <th>2016-01-03</th>\n",
       "      <td>8.737960</td>\n",
       "      <td>5.044753</td>\n",
       "      <td>1.351409</td>\n",
       "      <td>2.035612</td>\n",
       "      <td>7.0</td>\n",
       "      <td>3.066578</td>\n",
       "      <td>2.789690</td>\n",
       "      <td>8.098308</td>\n",
       "      <td>3.758341</td>\n",
       "      <td>7.743898</td>\n",
       "      <td>...</td>\n",
       "      <td>4.088856</td>\n",
       "      <td>3.459867</td>\n",
       "      <td>2.392027</td>\n",
       "      <td>5.600949</td>\n",
       "      <td>6.914714</td>\n",
       "      <td>4.073697</td>\n",
       "      <td>2.0</td>\n",
       "      <td>3.800433</td>\n",
       "      <td>3.0</td>\n",
       "      <td>8.520142</td>\n",
       "    </tr>\n",
       "    <tr>\n",
       "      <th>2016-01-04</th>\n",
       "      <td>8.596269</td>\n",
       "      <td>4.923311</td>\n",
       "      <td>1.235647</td>\n",
       "      <td>1.892789</td>\n",
       "      <td>7.0</td>\n",
       "      <td>2.977715</td>\n",
       "      <td>2.702696</td>\n",
       "      <td>7.871682</td>\n",
       "      <td>3.643122</td>\n",
       "      <td>7.610875</td>\n",
       "      <td>...</td>\n",
       "      <td>4.021023</td>\n",
       "      <td>3.328142</td>\n",
       "      <td>2.346379</td>\n",
       "      <td>5.641478</td>\n",
       "      <td>6.784369</td>\n",
       "      <td>3.992474</td>\n",
       "      <td>2.0</td>\n",
       "      <td>3.720923</td>\n",
       "      <td>3.0</td>\n",
       "      <td>8.432641</td>\n",
       "    </tr>\n",
       "    <tr>\n",
       "      <th>2016-01-05</th>\n",
       "      <td>8.668913</td>\n",
       "      <td>4.987258</td>\n",
       "      <td>1.301122</td>\n",
       "      <td>1.970474</td>\n",
       "      <td>7.0</td>\n",
       "      <td>3.021673</td>\n",
       "      <td>2.743152</td>\n",
       "      <td>7.989373</td>\n",
       "      <td>3.699800</td>\n",
       "      <td>7.678219</td>\n",
       "      <td>...</td>\n",
       "      <td>4.052814</td>\n",
       "      <td>3.391794</td>\n",
       "      <td>2.367813</td>\n",
       "      <td>5.622895</td>\n",
       "      <td>6.843130</td>\n",
       "      <td>4.031937</td>\n",
       "      <td>2.0</td>\n",
       "      <td>3.757239</td>\n",
       "      <td>3.0</td>\n",
       "      <td>8.471601</td>\n",
       "    </tr>\n",
       "    <tr>\n",
       "      <th>2016-01-06</th>\n",
       "      <td>8.631669</td>\n",
       "      <td>4.953586</td>\n",
       "      <td>1.264089</td>\n",
       "      <td>1.928219</td>\n",
       "      <td>7.0</td>\n",
       "      <td>2.999928</td>\n",
       "      <td>2.724338</td>\n",
       "      <td>7.928254</td>\n",
       "      <td>3.671919</td>\n",
       "      <td>7.644125</td>\n",
       "      <td>...</td>\n",
       "      <td>4.037915</td>\n",
       "      <td>3.361036</td>\n",
       "      <td>2.357748</td>\n",
       "      <td>5.631416</td>\n",
       "      <td>6.816640</td>\n",
       "      <td>4.012764</td>\n",
       "      <td>2.0</td>\n",
       "      <td>3.740652</td>\n",
       "      <td>3.0</td>\n",
       "      <td>8.454254</td>\n",
       "    </tr>\n",
       "  </tbody>\n",
       "</table>\n",
       "<p>7 rows × 32 columns</p>\n",
       "</div>"
      ],
      "text/plain": [
       "            The Barbecue Chicken Pizza  The Big Meat Pizza  \\\n",
       "2015-12-31                    7.949231            4.420315   \n",
       "2016-01-01                    9.000644            5.252117   \n",
       "2016-01-02                    8.461593            4.814122   \n",
       "2016-01-03                    8.737960            5.044753   \n",
       "2016-01-04                    8.596269            4.923311   \n",
       "2016-01-05                    8.668913            4.987258   \n",
       "2016-01-06                    8.631669            4.953586   \n",
       "\n",
       "            The Brie Carre Pizza  The Calabrese Pizza  \\\n",
       "2015-12-31              0.868806             1.368239   \n",
       "2016-01-01              1.508606             2.255787   \n",
       "2016-01-02              1.146737             1.773032   \n",
       "2016-01-03              1.351409             2.035612   \n",
       "2016-01-04              1.235647             1.892789   \n",
       "2016-01-05              1.301122             1.970474   \n",
       "2016-01-06              1.264089             1.928219   \n",
       "\n",
       "            The California Chicken Pizza  The Chicken Alfredo Pizza  \\\n",
       "2015-12-31                           7.0                   2.515974   \n",
       "2016-01-01                           7.0                   3.250085   \n",
       "2016-01-02                           7.0                   2.886938   \n",
       "2016-01-03                           7.0                   3.066578   \n",
       "2016-01-04                           7.0                   2.977715   \n",
       "2016-01-05                           7.0                   3.021673   \n",
       "2016-01-06                           7.0                   2.999928   \n",
       "\n",
       "            The Chicken Pesto Pizza  The Classic Deluxe Pizza  \\\n",
       "2015-12-31                 2.139860                  6.884102   \n",
       "2016-01-01                 3.004890                  8.502239   \n",
       "2016-01-02                 2.602621                  7.661914   \n",
       "2016-01-03                 2.789690                  8.098308   \n",
       "2016-01-04                 2.702696                  7.871682   \n",
       "2016-01-05                 2.743152                  7.989373   \n",
       "2016-01-06                 2.724338                  7.928254   \n",
       "\n",
       "            The Five Cheese Pizza  The Four Cheese Pizza  ...  \\\n",
       "2015-12-31               3.032327               6.974960  ...   \n",
       "2016-01-01               4.000261               8.000157  ...   \n",
       "2016-01-02               3.524117               7.481141  ...   \n",
       "2016-01-03               3.758341               7.743898  ...   \n",
       "2016-01-04               3.643122               7.610875  ...   \n",
       "2016-01-05               3.699800               7.678219  ...   \n",
       "2016-01-06               3.671919               7.644125  ...   \n",
       "\n",
       "            The Prosciutto and Arugula Pizza  The Sicilian Pizza  \\\n",
       "2015-12-31                          3.594000            2.583928   \n",
       "2016-01-01                          4.252945            3.751409   \n",
       "2016-01-02                          3.944120            3.187265   \n",
       "2016-01-03                          4.088856            3.459867   \n",
       "2016-01-04                          4.021023            3.328142   \n",
       "2016-01-05                          4.052814            3.391794   \n",
       "2016-01-06                          4.037915            3.361036   \n",
       "\n",
       "            The Soppressata Pizza  The Southwest Chicken Pizza  \\\n",
       "2015-12-31               2.060907                     5.917019   \n",
       "2016-01-01               2.501855                     5.496557   \n",
       "2016-01-02               2.294809                     5.689343   \n",
       "2016-01-03               2.392027                     5.600949   \n",
       "2016-01-04               2.346379                     5.641478   \n",
       "2016-01-05               2.367813                     5.622895   \n",
       "2016-01-06               2.357748                     5.631416   \n",
       "\n",
       "            The Spicy Italian Pizza  The Spinach Pesto Pizza  \\\n",
       "2015-12-31                 5.844288                 3.542421   \n",
       "2016-01-01                 7.266934                 4.250600   \n",
       "2016-01-02                 6.625582                 3.906524   \n",
       "2016-01-03                 6.914714                 4.073697   \n",
       "2016-01-04                 6.784369                 3.992474   \n",
       "2016-01-05                 6.843130                 4.031937   \n",
       "2016-01-06                 6.816640                 4.012764   \n",
       "\n",
       "            The Spinach Supreme Pizza  The Spinach and Feta Pizza  \\\n",
       "2015-12-31                        2.0                    3.173030   \n",
       "2016-01-01                        2.0                    4.007485   \n",
       "2016-01-02                        2.0                    3.626354   \n",
       "2016-01-03                        2.0                    3.800433   \n",
       "2016-01-04                        2.0                    3.720923   \n",
       "2016-01-05                        2.0                    3.757239   \n",
       "2016-01-06                        2.0                    3.740652   \n",
       "\n",
       "            The Thai Chicken Pizza  The Vegetables + Vegetables Pizza  \n",
       "2015-12-31                     3.0                           7.773728  \n",
       "2016-01-01                     3.0                           8.764985  \n",
       "2016-01-02                     3.0                           8.323624  \n",
       "2016-01-03                     3.0                           8.520142  \n",
       "2016-01-04                     3.0                           8.432641  \n",
       "2016-01-05                     3.0                           8.471601  \n",
       "2016-01-06                     3.0                           8.454254  \n",
       "\n",
       "[7 rows x 32 columns]"
      ]
     },
     "execution_count": 67,
     "metadata": {},
     "output_type": "execute_result"
    }
   ],
   "source": [
    "predictions_df\n"
   ]
  },
  {
   "cell_type": "code",
   "execution_count": 69,
   "id": "336cd2b6-31cd-480b-8bc5-3b3bcc95b4f6",
   "metadata": {},
   "outputs": [
    {
     "data": {
      "text/html": [
       "<div>\n",
       "<style scoped>\n",
       "    .dataframe tbody tr th:only-of-type {\n",
       "        vertical-align: middle;\n",
       "    }\n",
       "\n",
       "    .dataframe tbody tr th {\n",
       "        vertical-align: top;\n",
       "    }\n",
       "\n",
       "    .dataframe thead th {\n",
       "        text-align: right;\n",
       "    }\n",
       "</style>\n",
       "<table border=\"1\" class=\"dataframe\">\n",
       "  <thead>\n",
       "    <tr style=\"text-align: right;\">\n",
       "      <th></th>\n",
       "      <th>pizza_name</th>\n",
       "      <th>pizza_ingredients</th>\n",
       "      <th>items_qty</th>\n",
       "    </tr>\n",
       "  </thead>\n",
       "  <tbody>\n",
       "    <tr>\n",
       "      <th>0</th>\n",
       "      <td>The Barbecue Chicken Pizza</td>\n",
       "      <td>Barbecued Chicken</td>\n",
       "      <td>40.0</td>\n",
       "    </tr>\n",
       "    <tr>\n",
       "      <th>1</th>\n",
       "      <td>The Barbecue Chicken Pizza</td>\n",
       "      <td>Red Peppers</td>\n",
       "      <td>15.0</td>\n",
       "    </tr>\n",
       "    <tr>\n",
       "      <th>2</th>\n",
       "      <td>The Barbecue Chicken Pizza</td>\n",
       "      <td>Green Peppers</td>\n",
       "      <td>20.0</td>\n",
       "    </tr>\n",
       "    <tr>\n",
       "      <th>3</th>\n",
       "      <td>The Barbecue Chicken Pizza</td>\n",
       "      <td>Tomatoes</td>\n",
       "      <td>30.0</td>\n",
       "    </tr>\n",
       "    <tr>\n",
       "      <th>4</th>\n",
       "      <td>The Barbecue Chicken Pizza</td>\n",
       "      <td>Red Onions</td>\n",
       "      <td>60.0</td>\n",
       "    </tr>\n",
       "  </tbody>\n",
       "</table>\n",
       "</div>"
      ],
      "text/plain": [
       "                   pizza_name  pizza_ingredients  items_qty\n",
       "0  The Barbecue Chicken Pizza  Barbecued Chicken       40.0\n",
       "1  The Barbecue Chicken Pizza        Red Peppers       15.0\n",
       "2  The Barbecue Chicken Pizza      Green Peppers       20.0\n",
       "3  The Barbecue Chicken Pizza           Tomatoes       30.0\n",
       "4  The Barbecue Chicken Pizza         Red Onions       60.0"
      ]
     },
     "execution_count": 69,
     "metadata": {},
     "output_type": "execute_result"
    }
   ],
   "source": [
    "ingredients_df.head()\n"
   ]
  },
  {
   "cell_type": "code",
   "execution_count": 81,
   "id": "33b3258b-82ae-4217-b35c-a2a4331ae8e1",
   "metadata": {},
   "outputs": [],
   "source": [
    "# Create a dictionary to store the ingredient quantities\n",
    "ingredient_quantities = {}\n",
    "\n",
    "# Iterate through each pizza in the predictions\n",
    "for pizza_name in predictions_df.columns:\n",
    "  # Get the predicted quantity for the pizza\n",
    "  predicted_quantity = predictions_df[pizza_name].sum()\n",
    "\n",
    "  # Get the ingredients for the pizza\n",
    "  pizza_ingredients = ingredients_df[ingredients_df['pizza_name'] == pizza_name]\n",
    "\n",
    "  # Iterate through each ingredient for the pizza\n",
    "  for index, row in pizza_ingredients.iterrows():\n",
    "    ingredient = row['pizza_ingredients']\n",
    "    ingredient_qty = row['items_qty']\n",
    "\n",
    "    # Calculate the required quantity of the ingredient\n",
    "    required_quantity = predicted_quantity * ingredient_qty\n",
    "\n",
    "    # Add the required quantity to the dictionary\n",
    "    if ingredient not in ingredient_quantities:\n",
    "      ingredient_quantities[ingredient] = 0\n",
    "    ingredient_quantities[ingredient] += required_quantity\n",
    "\n"
   ]
  },
  {
   "cell_type": "code",
   "execution_count": 83,
   "id": "ece0059d-c370-4f7f-ad21-439287fdafae",
   "metadata": {},
   "outputs": [],
   "source": [
    "# Create a DataFrame from the ingredient quantities\n",
    "ingredient_requirements_df = pd.DataFrame.from_dict(ingredient_quantities, orient='index', columns=['required_quantity'])    "
   ]
  },
  {
   "cell_type": "code",
   "execution_count": 77,
   "id": "77e71ca2-fd7d-4475-9687-80b212fb664e",
   "metadata": {},
   "outputs": [
    {
     "data": {
      "text/html": [
       "<div>\n",
       "<style scoped>\n",
       "    .dataframe tbody tr th:only-of-type {\n",
       "        vertical-align: middle;\n",
       "    }\n",
       "\n",
       "    .dataframe tbody tr th {\n",
       "        vertical-align: top;\n",
       "    }\n",
       "\n",
       "    .dataframe thead th {\n",
       "        text-align: right;\n",
       "    }\n",
       "</style>\n",
       "<table border=\"1\" class=\"dataframe\">\n",
       "  <thead>\n",
       "    <tr style=\"text-align: right;\">\n",
       "      <th></th>\n",
       "      <th>required_quantity</th>\n",
       "    </tr>\n",
       "  </thead>\n",
       "  <tbody>\n",
       "    <tr>\n",
       "      <th>Barbecued Chicken</th>\n",
       "      <td>5404.165210</td>\n",
       "    </tr>\n",
       "    <tr>\n",
       "      <th>Red Peppers</th>\n",
       "      <td>11341.552000</td>\n",
       "    </tr>\n",
       "    <tr>\n",
       "      <th>Green Peppers</th>\n",
       "      <td>8030.393870</td>\n",
       "    </tr>\n",
       "    <tr>\n",
       "      <th>Tomatoes</th>\n",
       "      <td>34984.718345</td>\n",
       "    </tr>\n",
       "    <tr>\n",
       "      <th>Red Onions</th>\n",
       "      <td>54797.556520</td>\n",
       "    </tr>\n",
       "    <tr>\n",
       "      <th>...</th>\n",
       "      <td>...</td>\n",
       "    </tr>\n",
       "    <tr>\n",
       "      <th>Luganega Sausage</th>\n",
       "      <td>2767.612913</td>\n",
       "    </tr>\n",
       "    <tr>\n",
       "      <th>Onions</th>\n",
       "      <td>1383.806456</td>\n",
       "    </tr>\n",
       "    <tr>\n",
       "      <th>Soppressata Salami</th>\n",
       "      <td>4896.461505</td>\n",
       "    </tr>\n",
       "    <tr>\n",
       "      <th>Peperoncini verdi</th>\n",
       "      <td>1412.869705</td>\n",
       "    </tr>\n",
       "    <tr>\n",
       "      <th>Thai Sweet Chilli Sauce</th>\n",
       "      <td>1260.000000</td>\n",
       "    </tr>\n",
       "  </tbody>\n",
       "</table>\n",
       "<p>64 rows × 1 columns</p>\n",
       "</div>"
      ],
      "text/plain": [
       "                         required_quantity\n",
       "Barbecued Chicken              5404.165210\n",
       "Red Peppers                   11341.552000\n",
       "Green Peppers                  8030.393870\n",
       "Tomatoes                      34984.718345\n",
       "Red Onions                    54797.556520\n",
       "...                                    ...\n",
       "Luganega Sausage               2767.612913\n",
       "Onions                         1383.806456\n",
       "Soppressata Salami             4896.461505\n",
       "Peperoncini verdi              1412.869705\n",
       "Thai Sweet Chilli Sauce        1260.000000\n",
       "\n",
       "[64 rows x 1 columns]"
      ]
     },
     "execution_count": 77,
     "metadata": {},
     "output_type": "execute_result"
    }
   ],
   "source": [
    "# Print the ingredient requirements\n",
    "ingredient_requirements_df"
   ]
  },
  {
   "cell_type": "code",
   "execution_count": 79,
   "id": "3d635c65-66bc-4904-b8bb-fc35c0e376c8",
   "metadata": {},
   "outputs": [
    {
     "name": "stdout",
     "output_type": "stream",
     "text": [
      "Purchase Order:\n",
      "----------------\n",
      "                                quantity   unit\n",
      "Barbecued Chicken            5404.165210  grams\n",
      "Red Peppers                 11341.552000  grams\n",
      "Green Peppers                8030.393870  grams\n",
      "Tomatoes                    34984.718345  grams\n",
      "Red Onions                  54797.556520  grams\n",
      "Barbecue Sauce               1801.388403  grams\n",
      "Bacon                       19992.004778  grams\n",
      "Pepperoni                   24192.916443  grams\n",
      "Italian Sausage               343.954622  grams\n",
      "Chorizo Sausage              1719.773109  grams\n",
      "Brie Carre Cheese             260.292443  grams\n",
      "Prosciutto                    260.292443  grams\n",
      "Caramelized Onions                   NaN  grams\n",
      "Pears                          86.764148  grams\n",
      "Thyme                          43.382074  grams\n",
      "Garlic                      17939.075394  grams\n",
      "?duja Salami                 1586.898271  grams\n",
      "Pancetta                     2380.347406  grams\n",
      "Friggitello Peppers           396.724568  grams\n",
      "Chicken                     44707.738832  grams\n",
      "Artichokes                   8194.256194  grams\n",
      "Spinach                     21045.422036  grams\n",
      "Jalapeno Peppers             3770.816452  grams\n",
      "Fontina Cheese               3919.292301  grams\n",
      "Gouda Cheese                 2940.000000  grams\n",
      "Mushrooms                   26131.595757  grams\n",
      "Asiago Cheese                4170.001706  grams\n",
      "Alfredo Sauce                 932.350127  grams\n",
      "Pesto Sauce                  3897.174211  grams\n",
      "Mozzarella Cheese           10227.712834  grams\n",
      "Provolone Cheese              759.896595  grams\n",
      "Smoked Gouda Cheese           759.896595  grams\n",
      "Romano Cheese                 759.896595  grams\n",
      "Blue Cheese                   759.896595  grams\n",
      "Ricotta Cheese               3985.003098  grams\n",
      "Gorgonzola Piccante Cheese   3188.002478  grams\n",
      "Parmigiano Reggiano Cheese   7970.006196  grams\n",
      "Kalamata Olives              2242.598080  grams\n",
      "Feta Cheese                  7530.556884  grams\n",
      "Beef Chuck Roast             7980.000000  grams\n",
      "Green Olives                 3263.109241  grams\n",
      "Sliced Ham                           NaN  grams\n",
      "Pineapple                    4641.998311  grams\n",
      "Capocollo                   50316.976173  grams\n",
      "Goat Cheese                 11504.280166  grams\n",
      "Oregano                      1463.200337  grams\n",
      "Calabrese Salami            11121.934742  grams\n",
      "Eggplant                     2212.228830  grams\n",
      "Zucchini                     4630.572932  grams\n",
      "Sun-dried Tomatoes           1606.910550  grams\n",
      "Plum Tomatoes                3090.392321  grams\n",
      "Cilantro                     2300.816452  grams\n",
      "Corn                        15338.776349  grams\n",
      "Chipotle Sauce               4601.632905  grams\n",
      "Anchovies                    2943.868861  grams\n",
      "Genoa Salami                 6260.604609  grams\n",
      "Prosciutto di San Daniele    1959.417098  grams\n",
      "Arugula                       839.750185  grams\n",
      "Coarse Sicilian Salami       5535.225825  grams\n",
      "Luganega Sausage             2767.612913  grams\n",
      "Onions                       1383.806456  grams\n",
      "Soppressata Salami           4896.461505  grams\n",
      "Peperoncini verdi            1412.869705  grams\n",
      "Thai Sweet Chilli Sauce      1260.000000  grams\n"
     ]
    }
   ],
   "source": [
    "# Create a purchase order DataFrame\n",
    "purchase_order_df = ingredient_requirements_df.copy()\n",
    "\n",
    "# Add a column for the unit of measure (assuming all ingredients are in grams)\n",
    "purchase_order_df['unit'] = 'grams'\n",
    "\n",
    "# Rename the columns for better readability\n",
    "purchase_order_df = purchase_order_df.rename(columns={'required_quantity': 'quantity'})\n",
    "\n",
    "# Add a header to the purchase order\n",
    "print('Purchase Order:')\n",
    "print('----------------')\n",
    "\n",
    "# Print the purchase order table\n",
    "print(purchase_order_df.to_string())"
   ]
  },
  {
   "cell_type": "code",
   "execution_count": null,
   "id": "fd1effdb-c0d7-415c-b4d2-12a6376047e4",
   "metadata": {},
   "outputs": [],
   "source": []
  }
 ],
 "metadata": {
  "kernelspec": {
   "display_name": "Python 3 (ipykernel)",
   "language": "python",
   "name": "python3"
  },
  "language_info": {
   "codemirror_mode": {
    "name": "ipython",
    "version": 3
   },
   "file_extension": ".py",
   "mimetype": "text/x-python",
   "name": "python",
   "nbconvert_exporter": "python",
   "pygments_lexer": "ipython3",
   "version": "3.12.4"
  }
 },
 "nbformat": 4,
 "nbformat_minor": 5
}
